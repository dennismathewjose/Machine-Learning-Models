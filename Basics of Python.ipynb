{
 "cells": [
  {
   "cell_type": "markdown",
   "id": "9ab00c8d-22c6-4dce-a9f9-a169042537ef",
   "metadata": {},
   "source": [
    "# Day 1 : Basics of Python\n"
   ]
  },
  {
   "cell_type": "markdown",
   "id": "cc965209-63fc-45f0-a441-29a62023db2e",
   "metadata": {
    "tags": []
   },
   "source": [
    "## Printing in python"
   ]
  },
  {
   "cell_type": "code",
   "execution_count": 1,
   "id": "5ac4fcb0-51b0-44bb-b61b-0ee5b4e8badc",
   "metadata": {},
   "outputs": [
    {
     "name": "stdout",
     "output_type": "stream",
     "text": [
      "Hello world\n"
     ]
    }
   ],
   "source": [
    "print(\"Hello world\")"
   ]
  },
  {
   "cell_type": "code",
   "execution_count": 2,
   "id": "3e13b73d-5909-4cef-a987-8352b09c8e23",
   "metadata": {},
   "outputs": [
    {
     "name": "stdout",
     "output_type": "stream",
     "text": [
      "10\n",
      "Dennis\n"
     ]
    }
   ],
   "source": [
    "X = 10\n",
    "Y = \"Dennis\"\n",
    "print(X)\n",
    "print(Y)"
   ]
  },
  {
   "cell_type": "markdown",
   "id": "404084bf-19d0-4e52-bd6c-5d1a47c6e543",
   "metadata": {
    "tags": []
   },
   "source": [
    "## Getting an input from a user"
   ]
  },
  {
   "cell_type": "code",
   "execution_count": 3,
   "id": "48630f92-8867-4a29-bef1-ef0abbddac77",
   "metadata": {},
   "outputs": [
    {
     "name": "stdin",
     "output_type": "stream",
     "text": [
      " 5\n"
     ]
    },
    {
     "name": "stdout",
     "output_type": "stream",
     "text": [
      "5\n",
      "<class 'str'>\n"
     ]
    }
   ],
   "source": [
    "x = input()\n",
    "print(x)\n",
    "print(type(x))"
   ]
  },
  {
   "cell_type": "code",
   "execution_count": 4,
   "id": "a93806f9-cc32-4dea-a8a2-251beb24a572",
   "metadata": {},
   "outputs": [
    {
     "name": "stdin",
     "output_type": "stream",
     "text": [
      " 5\n"
     ]
    },
    {
     "name": "stdout",
     "output_type": "stream",
     "text": [
      "5\n",
      "<class 'int'>\n"
     ]
    }
   ],
   "source": [
    "y = int(input())\n",
    "print(y)\n",
    "print(type(y))"
   ]
  },
  {
   "cell_type": "markdown",
   "id": "ea770146-fd6e-4a51-9569-db5966ddcfa7",
   "metadata": {
    "tags": []
   },
   "source": [
    "## Python Operators"
   ]
  },
  {
   "cell_type": "code",
   "execution_count": 5,
   "id": "79d01d50-5d03-4f0a-9761-7db1d602aa6a",
   "metadata": {},
   "outputs": [
    {
     "name": "stdout",
     "output_type": "stream",
     "text": [
      "13\n"
     ]
    }
   ],
   "source": [
    "x = 6\n",
    "y = 7\n",
    "print(x+y)"
   ]
  },
  {
   "cell_type": "code",
   "execution_count": 6,
   "id": "5ff6a87b-c4ac-451c-bdc8-c5b443637686",
   "metadata": {},
   "outputs": [
    {
     "name": "stdout",
     "output_type": "stream",
     "text": [
      "67\n"
     ]
    }
   ],
   "source": [
    "x = '6'\n",
    "y = '7'\n",
    "print(x+y)\n",
    "\n",
    "#here the answer is 67 because 6 and 7 are of string datatypes and '+' acts as an operator used to concatenate.\n",
    "#This abilty of '+' to behave accordingly is called operator overloading"
   ]
  },
  {
   "cell_type": "code",
   "execution_count": 7,
   "id": "7515ce4f-d96d-47f9-9a36-dae13dbcba8a",
   "metadata": {},
   "outputs": [
    {
     "name": "stdout",
     "output_type": "stream",
     "text": [
      "56\n"
     ]
    }
   ],
   "source": [
    "x = 7\n",
    "y = 8\n",
    "print(x*y)"
   ]
  },
  {
   "cell_type": "code",
   "execution_count": 9,
   "id": "ca7cbf6f-b061-4e0a-9dbf-45653ec6e9a7",
   "metadata": {},
   "outputs": [
    {
     "name": "stdout",
     "output_type": "stream",
     "text": [
      "3.0\n",
      "3\n"
     ]
    }
   ],
   "source": [
    "#difference between '/' and '//' operator\n",
    "x = 9\n",
    "y = 3\n",
    "print(x/y) # gives floating point value\n",
    "print(x//y) # gives integer value"
   ]
  },
  {
   "cell_type": "code",
   "execution_count": 11,
   "id": "94ef16af-8e09-4fa4-8825-7b0879fb3a40",
   "metadata": {},
   "outputs": [
    {
     "name": "stdout",
     "output_type": "stream",
     "text": [
      "1\n"
     ]
    }
   ],
   "source": [
    "X = 7\n",
    "y = 3\n",
    "print(X%y)"
   ]
  },
  {
   "cell_type": "markdown",
   "id": "8046c8cc-83d9-4942-af77-2b073bd40cb0",
   "metadata": {
    "tags": []
   },
   "source": [
    "## Python Lists"
   ]
  },
  {
   "cell_type": "code",
   "execution_count": 13,
   "id": "b7dc9035-2e16-4872-a4fe-db70a3dc1a84",
   "metadata": {},
   "outputs": [
    {
     "data": {
      "text/plain": [
       "[1, 2, 3, 4, 5]"
      ]
     },
     "execution_count": 13,
     "metadata": {},
     "output_type": "execute_result"
    }
   ],
   "source": [
    "exList = [1,2,3,4,5]\n",
    "exList"
   ]
  },
  {
   "cell_type": "code",
   "execution_count": 14,
   "id": "45e9d47b-d4a8-4ad7-8845-f34b7c609885",
   "metadata": {},
   "outputs": [
    {
     "data": {
      "text/plain": [
       "['Apple', 'orange', 'banana', 'grape']"
      ]
     },
     "execution_count": 14,
     "metadata": {},
     "output_type": "execute_result"
    }
   ],
   "source": [
    "fruits = ['Apple','orange','banana','grape']\n",
    "fruits"
   ]
  },
  {
   "cell_type": "markdown",
   "id": "437f2b96-0802-4266-bd6d-b45317ba24c9",
   "metadata": {
    "tags": []
   },
   "source": [
    "## List indexing and slicing"
   ]
  },
  {
   "cell_type": "code",
   "execution_count": 15,
   "id": "2bdda147-3be2-44c5-b4e8-a13eedf119f1",
   "metadata": {},
   "outputs": [
    {
     "data": {
      "text/plain": [
       "'Apple'"
      ]
     },
     "execution_count": 15,
     "metadata": {},
     "output_type": "execute_result"
    }
   ],
   "source": [
    "fruits[0]"
   ]
  },
  {
   "cell_type": "code",
   "execution_count": 16,
   "id": "7bed74b8-6b68-4055-bb91-bf164a99246c",
   "metadata": {},
   "outputs": [
    {
     "data": {
      "text/plain": [
       "'grape'"
      ]
     },
     "execution_count": 16,
     "metadata": {},
     "output_type": "execute_result"
    }
   ],
   "source": [
    "fruits[-1]"
   ]
  },
  {
   "cell_type": "code",
   "execution_count": 17,
   "id": "2581c70d-4c08-45a5-8f82-522984f297da",
   "metadata": {},
   "outputs": [
    {
     "data": {
      "text/plain": [
       "'grape'"
      ]
     },
     "execution_count": 17,
     "metadata": {},
     "output_type": "execute_result"
    }
   ],
   "source": [
    "fruits[3]"
   ]
  },
  {
   "cell_type": "code",
   "execution_count": 18,
   "id": "31c2220c-8425-4a85-8864-2002854d60bc",
   "metadata": {},
   "outputs": [
    {
     "data": {
      "text/plain": [
       "['orange', 'banana']"
      ]
     },
     "execution_count": 18,
     "metadata": {},
     "output_type": "execute_result"
    }
   ],
   "source": [
    "fruits[1:3]\n",
    "#start at 0 and ends at 3"
   ]
  },
  {
   "cell_type": "code",
   "execution_count": 19,
   "id": "9586c613-9458-4186-9f60-bfa32906ef07",
   "metadata": {},
   "outputs": [
    {
     "data": {
      "text/plain": [
       "['orange']"
      ]
     },
     "execution_count": 19,
     "metadata": {},
     "output_type": "execute_result"
    }
   ],
   "source": [
    "fruits[1:3:2]\n",
    "#start from 1st index to 3rd index with step of 2"
   ]
  },
  {
   "cell_type": "code",
   "execution_count": 20,
   "id": "d8278081-705c-4041-ae84-9d218e637eed",
   "metadata": {},
   "outputs": [
    {
     "data": {
      "text/plain": [
       "['Apple', 'orange', 'banana']"
      ]
     },
     "execution_count": 20,
     "metadata": {},
     "output_type": "execute_result"
    }
   ],
   "source": [
    "fruits[:3]\n",
    "#start from 0th index to 3rd index"
   ]
  },
  {
   "cell_type": "code",
   "execution_count": 21,
   "id": "d2e095f7-4e2d-4095-9e37-5574adb69b94",
   "metadata": {},
   "outputs": [
    {
     "data": {
      "text/plain": [
       "['orange', 'banana', 'grape']"
      ]
     },
     "execution_count": 21,
     "metadata": {},
     "output_type": "execute_result"
    }
   ],
   "source": [
    "fruits[1:] \n",
    "#start from 1st index to last index"
   ]
  },
  {
   "cell_type": "markdown",
   "id": "09e56401-01e0-41ed-af65-d3c50a9b8ecd",
   "metadata": {
    "tags": []
   },
   "source": [
    "## List Operations"
   ]
  },
  {
   "cell_type": "code",
   "execution_count": 22,
   "id": "8e6ec30d-4628-460f-bb2b-f6150d239bfe",
   "metadata": {},
   "outputs": [
    {
     "data": {
      "text/plain": [
       "['Apple', 'orange', 'banana', 'grape', 'kiwi']"
      ]
     },
     "execution_count": 22,
     "metadata": {},
     "output_type": "execute_result"
    }
   ],
   "source": [
    "#adding an element to a list\n",
    "# to add an element inside a list we use the 'append()' function\n",
    "\n",
    "fruits.append('kiwi')\n",
    "fruits"
   ]
  },
  {
   "cell_type": "code",
   "execution_count": 23,
   "id": "876686f2-9080-40ba-a896-1d0746e50edd",
   "metadata": {},
   "outputs": [
    {
     "data": {
      "text/plain": [
       "['Apple', 'orange', 'banana', 'Avocado', 'grape', 'kiwi']"
      ]
     },
     "execution_count": 23,
     "metadata": {},
     "output_type": "execute_result"
    }
   ],
   "source": [
    "#to insert an element at a specific index we use 'insert()' function\n",
    "# Syntax : List_name.insert(index, element)\n",
    "\n",
    "fruits.insert(3,'Avocado')\n",
    "fruits"
   ]
  },
  {
   "cell_type": "code",
   "execution_count": 24,
   "id": "0a2708f1-eea8-49f3-b88b-756c4a1d33d1",
   "metadata": {},
   "outputs": [
    {
     "data": {
      "text/plain": [
       "['Apple',\n",
       " 'orange',\n",
       " 'banana',\n",
       " 'Avocado',\n",
       " 'grape',\n",
       " 'kiwi',\n",
       " 'guava',\n",
       " 'pineapple',\n",
       " 'lychee']"
      ]
     },
     "execution_count": 24,
     "metadata": {},
     "output_type": "execute_result"
    }
   ],
   "source": [
    "#to extend list => extend(listnm)\n",
    "#fruits2 = ['guava','pineapple','lychee']\n",
    "fruits.extend(['guava','pineapple','lychee'])\n",
    "fruits"
   ]
  },
  {
   "cell_type": "code",
   "execution_count": 25,
   "id": "865b3a5d-5a60-4f71-b6e9-fc6fa446c255",
   "metadata": {},
   "outputs": [
    {
     "data": {
      "text/plain": [
       "['Apple',\n",
       " 'orange',\n",
       " 'banana',\n",
       " 'Avocado',\n",
       " 'grape',\n",
       " 'kiwi',\n",
       " 'guava',\n",
       " 'pineapple',\n",
       " 'lychee',\n",
       " 'tomato',\n",
       " 'spinach',\n",
       " 'brinjal']"
      ]
     },
     "execution_count": 25,
     "metadata": {},
     "output_type": "execute_result"
    }
   ],
   "source": [
    "#to concantenate two list we use '+' \n",
    "vegies = ['tomato','spinach','brinjal']\n",
    "fruits + vegies"
   ]
  },
  {
   "cell_type": "code",
   "execution_count": 26,
   "id": "ae8c5dd1-acd4-44ee-a666-a26802e58e17",
   "metadata": {},
   "outputs": [
    {
     "data": {
      "text/plain": [
       "['Apple', 'orange', 'Avocado', 'grape', 'kiwi', 'guava', 'pineapple', 'lychee']"
      ]
     },
     "execution_count": 26,
     "metadata": {},
     "output_type": "execute_result"
    }
   ],
   "source": [
    "#remove list item\n",
    "fruits.remove('banana')\n",
    "fruits"
   ]
  },
  {
   "cell_type": "code",
   "execution_count": 27,
   "id": "b2418731-8e33-4a75-8f01-b6a72f1b1e43",
   "metadata": {},
   "outputs": [
    {
     "data": {
      "text/plain": [
       "['Apple', 'orange', 'Avocado', 'grape', 'kiwi', 'guava', 'pineapple']"
      ]
     },
     "execution_count": 27,
     "metadata": {},
     "output_type": "execute_result"
    }
   ],
   "source": [
    "fruits.pop()\n",
    "fruits\n",
    "\n",
    "#pop() is used to remove the last element in the list"
   ]
  },
  {
   "cell_type": "code",
   "execution_count": 28,
   "id": "1d513bbe-e631-4ba8-a59d-cc0b1462d3cf",
   "metadata": {},
   "outputs": [
    {
     "data": {
      "text/plain": [
       "['Apple', 'orange', 'Avocado', 'kiwi', 'guava', 'pineapple']"
      ]
     },
     "execution_count": 28,
     "metadata": {},
     "output_type": "execute_result"
    }
   ],
   "source": [
    "#we can also delete the element in the list by specifying the index\n",
    "del fruits[3]\n",
    "fruits"
   ]
  },
  {
   "cell_type": "code",
   "execution_count": 30,
   "id": "1c9e19f6-7d76-49ef-aeb4-78c97b3a8e30",
   "metadata": {},
   "outputs": [
    {
     "ename": "NameError",
     "evalue": "name 'fruits' is not defined",
     "output_type": "error",
     "traceback": [
      "\u001b[0;31m---------------------------------------------------------------------------\u001b[0m",
      "\u001b[0;31mNameError\u001b[0m                                 Traceback (most recent call last)",
      "Cell \u001b[0;32mIn [30], line 3\u001b[0m\n\u001b[1;32m      1\u001b[0m \u001b[38;5;66;03m#to delete the entire list \u001b[39;00m\n\u001b[1;32m      2\u001b[0m \u001b[38;5;28;01mdel\u001b[39;00m fruits\n\u001b[0;32m----> 3\u001b[0m \u001b[43mfruits\u001b[49m\n",
      "\u001b[0;31mNameError\u001b[0m: name 'fruits' is not defined"
     ]
    }
   ],
   "source": [
    "#to delete the entire list \n",
    "del fruits\n",
    "fruits\n",
    "\n",
    "#this error is because you have already deleted the list fruits."
   ]
  },
  {
   "cell_type": "markdown",
   "id": "6a9f4ea9-a82a-4254-a8c7-1c6b606ab347",
   "metadata": {
    "jp-MarkdownHeadingCollapsed": true,
    "tags": []
   },
   "source": [
    "## Tuples in python"
   ]
  },
  {
   "cell_type": "code",
   "execution_count": 31,
   "id": "a5c25228-88ef-463b-ac54-55bda83a88e8",
   "metadata": {},
   "outputs": [
    {
     "data": {
      "text/plain": [
       "('dennis', 'john', 'yadu')"
      ]
     },
     "execution_count": 31,
     "metadata": {},
     "output_type": "execute_result"
    }
   ],
   "source": [
    "tuple1 = ('dennis','john','yadu')\n",
    "tuple1"
   ]
  },
  {
   "cell_type": "code",
   "execution_count": 32,
   "id": "c424ed2d-9b38-490b-880e-9f6887547e19",
   "metadata": {},
   "outputs": [
    {
     "data": {
      "text/plain": [
       "'yadu'"
      ]
     },
     "execution_count": 32,
     "metadata": {},
     "output_type": "execute_result"
    }
   ],
   "source": [
    "tuple1[2]"
   ]
  },
  {
   "cell_type": "markdown",
   "id": "6b05da47-2476-4506-b3e3-ebc672679cc1",
   "metadata": {},
   "source": [
    "### Tuples only support read operations. We cannot modify the elements inside a tuple. That is tuples are immutable data type"
   ]
  },
  {
   "cell_type": "markdown",
   "id": "6e0fb090-1c14-4763-9b44-5029493dc5d9",
   "metadata": {
    "jp-MarkdownHeadingCollapsed": true,
    "tags": []
   },
   "source": [
    "## Python Dictionaries"
   ]
  },
  {
   "cell_type": "code",
   "execution_count": 34,
   "id": "c287f888-7ee9-40c2-942b-caa800f0f16f",
   "metadata": {},
   "outputs": [
    {
     "data": {
      "text/plain": [
       "{'ford': 'Mustang', 'BMW': 'x1', 'Toyota': 'Fortuner'}"
      ]
     },
     "execution_count": 34,
     "metadata": {},
     "output_type": "execute_result"
    }
   ],
   "source": [
    "cars = {\n",
    "    \"ford\" : \"Mustang\",\n",
    "    \"BMW\" : \"x1\",\n",
    "    \"Toyota\" : \"Fortuner\"\n",
    "}\n",
    "cars"
   ]
  },
  {
   "cell_type": "code",
   "execution_count": 36,
   "id": "762c9e79-5976-46be-b5ff-2c536cf34fb4",
   "metadata": {},
   "outputs": [
    {
     "data": {
      "text/plain": [
       "{'brand': 'Honda',\n",
       " 'name': 'City',\n",
       " 'year': 2019,\n",
       " 'colors': ['red', 'maroon', 'white', 'black']}"
      ]
     },
     "execution_count": 36,
     "metadata": {},
     "output_type": "execute_result"
    }
   ],
   "source": [
    "car = {\n",
    "    'brand' : 'Honda',\n",
    "    'model' : 'City',\n",
    "    'year' : 2019,\n",
    "    'colors' : ['red','maroon','white','black']\n",
    "}\n",
    "car"
   ]
  },
  {
   "cell_type": "markdown",
   "id": "380ce0d8-19b9-4eef-91aa-45a184a06a0e",
   "metadata": {
    "jp-MarkdownHeadingCollapsed": true,
    "tags": []
   },
   "source": [
    "## Dictionary operations\n"
   ]
  },
  {
   "cell_type": "code",
   "execution_count": 37,
   "id": "7a904159-8ce0-47cd-9668-730b9bdb4868",
   "metadata": {},
   "outputs": [
    {
     "data": {
      "text/plain": [
       "'Honda'"
      ]
     },
     "execution_count": 37,
     "metadata": {},
     "output_type": "execute_result"
    }
   ],
   "source": [
    "# to access dictionary items\n",
    "\n",
    "# to get the value of a particular key\n",
    "car.get('brand')"
   ]
  },
  {
   "cell_type": "code",
   "execution_count": 38,
   "id": "12a2a446-a95c-4084-a217-7cb337e93d47",
   "metadata": {},
   "outputs": [
    {
     "data": {
      "text/plain": [
       "dict_keys(['brand', 'name', 'year', 'colors'])"
      ]
     },
     "execution_count": 38,
     "metadata": {},
     "output_type": "execute_result"
    }
   ],
   "source": [
    "#to get the keys in the dictionary\n",
    "car.keys()"
   ]
  },
  {
   "cell_type": "code",
   "execution_count": 39,
   "id": "3a5109d6-09c5-4ce8-b35e-77afeef9cb42",
   "metadata": {},
   "outputs": [
    {
     "data": {
      "text/plain": [
       "dict_values(['Honda', 'City', 2019, ['red', 'maroon', 'white', 'black']])"
      ]
     },
     "execution_count": 39,
     "metadata": {},
     "output_type": "execute_result"
    }
   ],
   "source": [
    "#to get the values in the dictionary\n",
    "car.values()"
   ]
  },
  {
   "cell_type": "code",
   "execution_count": 40,
   "id": "aafa9279-d4d9-4031-b814-49e4da6253d5",
   "metadata": {},
   "outputs": [
    {
     "data": {
      "text/plain": [
       "dict_values(['Honda', 'amaze', 2019, ['red', 'maroon', 'white', 'black']])"
      ]
     },
     "execution_count": 40,
     "metadata": {},
     "output_type": "execute_result"
    }
   ],
   "source": [
    "#to change the values of a certain key\n",
    "# way 1\n",
    "car['name'] = 'amaze'\n",
    "car.values()"
   ]
  },
  {
   "cell_type": "code",
   "execution_count": 41,
   "id": "2deecf71-8df3-49d0-af02-28a75aa42785",
   "metadata": {},
   "outputs": [
    {
     "data": {
      "text/plain": [
       "dict_values(['Honda', 'civic', 2019, ['red', 'maroon', 'white', 'black']])"
      ]
     },
     "execution_count": 41,
     "metadata": {},
     "output_type": "execute_result"
    }
   ],
   "source": [
    "#way 2\n",
    "car.update({'name':'civic'})\n",
    "car.values()"
   ]
  },
  {
   "cell_type": "code",
   "execution_count": 42,
   "id": "a62c969a-00da-4a22-b807-a7ecb18f21d7",
   "metadata": {},
   "outputs": [
    {
     "data": {
      "text/plain": [
       "{'brand': 'Honda',\n",
       " 'name': 'civic',\n",
       " 'year': 2019,\n",
       " 'colors': ['red', 'maroon', 'white', 'black'],\n",
       " 'engine': 'petrol'}"
      ]
     },
     "execution_count": 42,
     "metadata": {},
     "output_type": "execute_result"
    }
   ],
   "source": [
    "#to add new keys and values to dictionary\n",
    "car['engine'] = 'petrol'\n",
    "car"
   ]
  },
  {
   "cell_type": "markdown",
   "id": "6afb00b1-ffa5-42c0-935d-888e2d737339",
   "metadata": {
    "jp-MarkdownHeadingCollapsed": true,
    "tags": []
   },
   "source": [
    "# Conditional statements in python"
   ]
  },
  {
   "cell_type": "code",
   "execution_count": 43,
   "id": "87536e0e-7cda-4cf2-a8c6-4c7540ed8479",
   "metadata": {},
   "outputs": [
    {
     "name": "stdout",
     "output_type": "stream",
     "text": [
      "10 greater than  5\n"
     ]
    }
   ],
   "source": [
    "x = 10\n",
    "y = 5\n",
    "if x>y:\n",
    "    print(x,\"greater than \",y)"
   ]
  },
  {
   "cell_type": "code",
   "execution_count": 44,
   "id": "62604fdc-0bd0-47b2-b01c-981b85ee5084",
   "metadata": {},
   "outputs": [
    {
     "name": "stdin",
     "output_type": "stream",
     "text": [
      " 5\n"
     ]
    },
    {
     "name": "stdout",
     "output_type": "stream",
     "text": [
      "odd number\n"
     ]
    }
   ],
   "source": [
    "x = int(input())\n",
    "if (x%2 == 0):\n",
    "    print('even number')\n",
    "else:\n",
    "    print('odd number')\n",
    "        "
   ]
  },
  {
   "cell_type": "code",
   "execution_count": 45,
   "id": "1fe72aaa-d1dc-4ba7-9911-34a7b1e92f22",
   "metadata": {},
   "outputs": [
    {
     "name": "stdout",
     "output_type": "stream",
     "text": [
      "7 is the largest\n"
     ]
    }
   ],
   "source": [
    "x = 5\n",
    "y = 6\n",
    "z = 7\n",
    "\n",
    "if (x > y and x > z):\n",
    "    print(x, \"is the largest\")\n",
    "elif (y > x and y > z):\n",
    "    print(y, \"is the largest\")\n",
    "else:\n",
    "    print(z, 'is the largest')"
   ]
  },
  {
   "cell_type": "markdown",
   "id": "e83033fb-4e97-4397-bf15-e75dcf045624",
   "metadata": {
    "jp-MarkdownHeadingCollapsed": true,
    "tags": []
   },
   "source": [
    "# Looping statements in python"
   ]
  },
  {
   "cell_type": "markdown",
   "id": "031d96b2-4bb8-48a0-8cd0-d5c16dcf35a4",
   "metadata": {
    "jp-MarkdownHeadingCollapsed": true,
    "tags": []
   },
   "source": [
    "## While loop"
   ]
  },
  {
   "cell_type": "code",
   "execution_count": 50,
   "id": "069fdc47-8357-415f-84d1-7fee1942e0be",
   "metadata": {},
   "outputs": [
    {
     "name": "stdout",
     "output_type": "stream",
     "text": [
      "5\n",
      "4\n",
      "3\n",
      "2\n",
      "1\n"
     ]
    }
   ],
   "source": [
    "i = 5\n",
    "while (i!=0):\n",
    "    print(i)\n",
    "    i-=1"
   ]
  },
  {
   "cell_type": "code",
   "execution_count": 51,
   "id": "4d9d0cfb-6dc7-4929-9dbc-b5986db49ac9",
   "metadata": {},
   "outputs": [
    {
     "name": "stdout",
     "output_type": "stream",
     "text": [
      "10\n",
      "9\n",
      "8\n",
      "7\n",
      "6\n"
     ]
    }
   ],
   "source": [
    "i = 10\n",
    "while (i != 0):\n",
    "    if (i == 5):\n",
    "        break\n",
    "    else:\n",
    "        print(i)\n",
    "    i-=1\n",
    "\n",
    "#when a break statement is seen inside a loop the command gets out of the loop or exit the loop"
   ]
  },
  {
   "cell_type": "code",
   "execution_count": 52,
   "id": "35246868-e457-4c34-a27b-0810c32cd630",
   "metadata": {},
   "outputs": [
    {
     "name": "stdout",
     "output_type": "stream",
     "text": [
      "1\n",
      "3\n",
      "5\n",
      "7\n",
      "9\n"
     ]
    }
   ],
   "source": [
    "#continue in loop\n",
    "i = 0\n",
    "while (i!=10):\n",
    "    if (i%2) == 0:\n",
    "        i+=1\n",
    "        continue\n",
    "    else:\n",
    "        print(i)\n",
    "    i+=1\n",
    "\n",
    "#whenever a continue is encountered it skips an iteration"
   ]
  },
  {
   "cell_type": "markdown",
   "id": "7d5e180b-33b1-4e1f-a7f0-8896a3fd09ac",
   "metadata": {
    "jp-MarkdownHeadingCollapsed": true,
    "tags": []
   },
   "source": [
    "## for loop"
   ]
  },
  {
   "cell_type": "code",
   "execution_count": 53,
   "id": "5412f9de-5a0a-4d05-b021-c3b261517a13",
   "metadata": {},
   "outputs": [
    {
     "name": "stdout",
     "output_type": "stream",
     "text": [
      "2\n",
      "3\n",
      "1\n",
      "5\n",
      "6\n",
      "8\n",
      "9\n",
      "10\n"
     ]
    }
   ],
   "source": [
    "#for looping through lists\n",
    "list1 = [2,3,1,5,6,8,9,10]\n",
    "for element in list1:\n",
    "    print(element)"
   ]
  },
  {
   "cell_type": "code",
   "execution_count": 54,
   "id": "7f4be1d8-37f0-402a-97d1-49635efe91a9",
   "metadata": {},
   "outputs": [
    {
     "name": "stdout",
     "output_type": "stream",
     "text": [
      "2\n",
      "3\n",
      "1\n",
      "5\n",
      "6\n",
      "8\n",
      "9\n",
      "10\n"
     ]
    }
   ],
   "source": [
    "#using the range function\n",
    "for i in range(len(list1)):\n",
    "    print(list1[i])"
   ]
  },
  {
   "cell_type": "markdown",
   "id": "102af0f0-1604-4649-bf37-b31ef8ac6b1f",
   "metadata": {},
   "source": [
    "### Range() function : range(start, stop, step)\n",
    "### start : starting index of the list\n",
    "### stop : Upto which the loop should run\n",
    "### step : step size or updation\n",
    "\n",
    "#### The range() function defaults to 0 as a starting value, however it is possible to specify the starting value by adding a parameter: range(2, 6), which means values from 2 to 6 (but not including 6):\n",
    "\n",
    "#### A loop inside another loop is called a nested loop\n",
    "#### Break and continue statments can be implemented inside for loop in the same as implemented in the while loop. Only difference is that it does not require an updation statement"
   ]
  },
  {
   "cell_type": "markdown",
   "id": "71e246ec-c1b3-49f3-a873-e0caa15951a0",
   "metadata": {
    "jp-MarkdownHeadingCollapsed": true,
    "tags": []
   },
   "source": [
    "# Functions in python"
   ]
  },
  {
   "cell_type": "markdown",
   "id": "50828a2d-bc53-4c77-8bc2-efb62a55e632",
   "metadata": {},
   "source": [
    "#### Defining a function"
   ]
  },
  {
   "cell_type": "code",
   "execution_count": 55,
   "id": "27548a89-fde9-49e7-a6e3-883b6bc16e11",
   "metadata": {},
   "outputs": [],
   "source": [
    "def sum():\n",
    "    x = 4\n",
    "    y = 6\n",
    "    print(x+y)"
   ]
  },
  {
   "cell_type": "markdown",
   "id": "264ad0c6-900c-46a0-aef5-c0b5d0231150",
   "metadata": {},
   "source": [
    "#### Calling a function"
   ]
  },
  {
   "cell_type": "code",
   "execution_count": 56,
   "id": "6748f9a2-39b5-42e7-b323-6457efb5c435",
   "metadata": {},
   "outputs": [
    {
     "name": "stdout",
     "output_type": "stream",
     "text": [
      "10\n"
     ]
    }
   ],
   "source": [
    "#To call a function, use the function name followed by parenthesis:\n",
    "\n",
    "sum()"
   ]
  },
  {
   "cell_type": "markdown",
   "id": "998a0f43-ba51-4d21-bfa5-9da6ffd1c08a",
   "metadata": {
    "jp-MarkdownHeadingCollapsed": true,
    "tags": []
   },
   "source": [
    "## Function Arguments\n",
    "\n",
    "#### Information can be passed into functions as arguments.\n",
    "\n",
    "#### Arguments are specified after the function name, inside the parentheses. You can add as many arguments as you want, just separate them with a comma.\n"
   ]
  },
  {
   "cell_type": "code",
   "execution_count": 57,
   "id": "5a042e70-d037-443f-ab86-1ad790ca6618",
   "metadata": {},
   "outputs": [
    {
     "name": "stdout",
     "output_type": "stream",
     "text": [
      "32\n"
     ]
    }
   ],
   "source": [
    "def power(x,y):\n",
    "    print(x**y)\n",
    "\n",
    "power(2,5) #function call\n",
    "\n",
    "# here x gets the value 2 and y gets the value 5"
   ]
  },
  {
   "cell_type": "code",
   "execution_count": 59,
   "id": "135c7b07-7a8f-4751-9e9a-54fedd3dc5ed",
   "metadata": {},
   "outputs": [
    {
     "name": "stdin",
     "output_type": "stream",
     "text": [
      " dennis\n",
      " jose\n"
     ]
    },
    {
     "data": {
      "text/plain": [
       "'dennisjose'"
      ]
     },
     "execution_count": 59,
     "metadata": {},
     "output_type": "execute_result"
    }
   ],
   "source": [
    "#function with argument and return statement\n",
    "def name(f_name, l_name):\n",
    "    return (f_name+l_name)\n",
    "\n",
    "first = input()\n",
    "second = input()\n",
    "full_name = name(first,second)\n",
    "full_name"
   ]
  },
  {
   "cell_type": "markdown",
   "id": "590506f2-f1e2-4a78-a4b0-b8671cf592f2",
   "metadata": {
    "jp-MarkdownHeadingCollapsed": true,
    "tags": []
   },
   "source": [
    "## Function recursion\n",
    "\n",
    "### Python also accepts function recursion, which means a defined function can call itself.\n",
    "\n",
    "### Recursion is a common mathematical and programming concept. It means that a function calls itself. This has the benefit of meaning that you can loop through data to reach a result. "
   ]
  },
  {
   "cell_type": "code",
   "execution_count": 63,
   "id": "86638f0e-cd66-43a2-b448-31154d51341b",
   "metadata": {},
   "outputs": [
    {
     "name": "stdin",
     "output_type": "stream",
     "text": [
      "Enter the number :  5\n"
     ]
    },
    {
     "data": {
      "text/plain": [
       "120"
      ]
     },
     "execution_count": 63,
     "metadata": {},
     "output_type": "execute_result"
    }
   ],
   "source": [
    "def factorial(x):\n",
    "    if x == 1:\n",
    "        return x\n",
    "    else: return x*factorial(x-1)\n",
    "\n",
    "value = int(input(\"Enter the number : \"))\n",
    "factorial(value)"
   ]
  },
  {
   "cell_type": "code",
   "execution_count": null,
   "id": "3834a9e5-ee1f-41d5-b58b-4502c8697304",
   "metadata": {},
   "outputs": [],
   "source": []
  }
 ],
 "metadata": {
  "kernelspec": {
   "display_name": "Python 3.9 (tensorflow)",
   "language": "python",
   "name": "tensorflow"
  },
  "language_info": {
   "codemirror_mode": {
    "name": "ipython",
    "version": 3
   },
   "file_extension": ".py",
   "mimetype": "text/x-python",
   "name": "python",
   "nbconvert_exporter": "python",
   "pygments_lexer": "ipython3",
   "version": "3.8.13"
  }
 },
 "nbformat": 4,
 "nbformat_minor": 5
}
